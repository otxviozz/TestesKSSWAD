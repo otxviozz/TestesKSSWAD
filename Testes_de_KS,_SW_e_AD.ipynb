{
  "nbformat": 4,
  "nbformat_minor": 0,
  "metadata": {
    "colab": {
      "provenance": [],
      "authorship_tag": "ABX9TyOLnFybQ4oKfUxNEdZh8qga",
      "include_colab_link": true
    },
    "kernelspec": {
      "name": "python3",
      "display_name": "Python 3"
    },
    "language_info": {
      "name": "python"
    }
  },
  "cells": [
    {
      "cell_type": "markdown",
      "metadata": {
        "id": "view-in-github",
        "colab_type": "text"
      },
      "source": [
        "<a href=\"https://colab.research.google.com/github/otxviozz/TestesKSSWAD/blob/main/Testes_de_KS%2C_SW_e_AD.ipynb\" target=\"_parent\"><img src=\"https://colab.research.google.com/assets/colab-badge.svg\" alt=\"Open In Colab\"/></a>"
      ]
    },
    {
      "cell_type": "code",
      "execution_count": null,
      "metadata": {
        "id": "8friAGV9Sne8"
      },
      "outputs": [],
      "source": [
        "import numpy as np\n",
        "import scipy.stats as stats"
      ]
    },
    {
      "cell_type": "code",
      "source": [
        "# EXERCICIO 1 - Tempos de espera com assimetria positiva\n",
        "tempos_espera = np.random.gamma(shape=2, scale=5, size=100)\n",
        "\n",
        "d_ks_espera, p_ks_espera = stats.kstest(tempos_espera, 'gamma', args=(2, 0, 5))\n",
        "w_shapiro_espera, p_shapiro_espera = stats.shapiro(tempos_espera)\n",
        "anderson_espera = stats.anderson(tempos_espera, dist='expon')\n",
        "\n",
        "# EXERCICIO 2 - Número de clientes diários com distribuição normal\n",
        "vendas_diarias = np.random.normal(loc=250, scale=50, size=60)\n",
        "\n",
        "d_ks_vendas, p_ks_vendas = stats.kstest(vendas_diarias, 'norm', args=(np.mean(vendas_diarias), np.std(vendas_diarias)))\n",
        "w_shapiro_vendas, p_shapiro_vendas = stats.shapiro(vendas_diarias)\n",
        "anderson_vendas = stats.anderson(vendas_diarias, dist='norm')\n",
        "\n",
        "# EXERCICIO 3 - Tempos de carregamento com alguns valores altos\n",
        "tempos_carregamento = np.append(\n",
        "    np.random.normal(loc=2, scale=0.5, size=190),\n",
        "    np.random.uniform(5, 10, size=10)\n",
        ")\n",
        "\n",
        "d_ks_carr, p_ks_carr = stats.kstest(tempos_carregamento, 'norm', args=(np.mean(tempos_carregamento), np.std(tempos_carregamento)))\n",
        "w_shapiro_carr, p_shapiro_carr = stats.shapiro(tempos_carregamento)\n",
        "anderson_carr = stats.anderson(tempos_carregamento, dist='norm')\n",
        "\n",
        "# EXERCICIO 4 - Pesos de parafusos com variação pequena\n",
        "pesos_parafusos = np.random.normal(loc=5, scale=0.1, size=80)\n",
        "\n",
        "d_ks_pesos, p_ks_pesos = stats.kstest(pesos_parafusos, 'norm', args=(np.mean(pesos_parafusos), np.std(pesos_parafusos)))\n",
        "w_shapiro_pesos, p_shapiro_pesos = stats.shapiro(pesos_parafusos)\n",
        "anderson_pesos = stats.anderson(pesos_parafusos, dist='norm')\n",
        "\n",
        "# EXERCICIO 5 - Notas de alunos com dois grupos\n",
        "notas = np.concatenate([\n",
        "    np.random.normal(loc=40, scale=10, size=60),\n",
        "    np.random.normal(loc=80, scale=10, size=60)\n",
        "])"
      ],
      "metadata": {
        "id": "xooDVRlIS2MC"
      },
      "execution_count": null,
      "outputs": []
    },
    {
      "cell_type": "code",
      "source": [
        "d_ks_notas, p_ks_notas = stats.kstest(notas, 'norm', args=(np.mean(notas), np.std(notas)))\n",
        "w_shapiro_notas, p_shapiro_notas = stats.shapiro(notas)\n",
        "anderson_notas = stats.anderson(notas, dist='norm')"
      ],
      "metadata": {
        "id": "PgJtoBn2S6Ln"
      },
      "execution_count": null,
      "outputs": []
    },
    {
      "cell_type": "code",
      "source": [
        "# Exibição dos resultados\n",
        "print(\"EXERCICIO 1 - Tempos de Espera:\")\n",
        "print(f\"KS Test: D={d_ks_espera}, p-value={p_ks_espera}\")\n",
        "print(f\"Shapiro-Wilk Test: W={w_shapiro_espera}, p-value={p_shapiro_espera}\")\n",
        "print(f\"Anderson-Darling Test: Statistic={anderson_espera.statistic}\\n\")\n",
        "\n",
        "print(\"EXERCICIO 2 - Vendas Diárias:\")\n",
        "print(f\"KS Test: D={d_ks_vendas}, p-value={p_ks_vendas}\")\n",
        "print(f\"Shapiro-Wilk Test: W={w_shapiro_vendas}, p-value={p_shapiro_vendas}\")\n",
        "print(f\"Anderson-Darling Test: Statistic={anderson_vendas.statistic}\\n\")\n",
        "\n",
        "print(\"EXERCICIO 3 - Tempos de Carregamento:\")\n",
        "print(f\"KS Test: D={d_ks_carr}, p-value={p_ks_carr}\")\n",
        "print(f\"Shapiro-Wilk Test: W={w_shapiro_carr}, p-value={p_shapiro_carr}\")\n",
        "print(f\"Anderson-Darling Test: Statistic={anderson_carr.statistic}\\n\")\n",
        "\n",
        "print(\"EXERCICIO 4 - Pesos de Parafusos:\")\n",
        "print(f\"KS Test: D={d_ks_pesos}, p-value={p_ks_pesos}\")\n",
        "print(f\"Shapiro-Wilk Test: W={w_shapiro_pesos}, p-value={p_shapiro_pesos}\")\n",
        "print(f\"Anderson-Darling Test: Statistic={anderson_pesos.statistic}\\n\")\n",
        "\n",
        "print(\"EXERCICIO 5 - Notas dos Alunos:\")\n",
        "print(f\"KS Test: D={d_ks_notas}, p-value={p_ks_notas}\")\n",
        "print(f\"Shapiro-Wilk Test: W={w_shapiro_notas}, p-value={p_shapiro_notas}\")\n",
        "print(f\"Anderson-Darling Test: Statistic={anderson_notas.statistic}\\n\")"
      ],
      "metadata": {
        "colab": {
          "base_uri": "https://localhost:8080/"
        },
        "id": "f4BHdx13S8XU",
        "outputId": "6cf2f3e3-48f3-4ddf-855d-609be8029e40"
      },
      "execution_count": null,
      "outputs": [
        {
          "output_type": "stream",
          "name": "stdout",
          "text": [
            "EXERCICIO 1 - Tempos de Espera:\n",
            "KS Test: D=0.06943480938830204, p-value=0.6941746481814048\n",
            "Shapiro-Wilk Test: W=0.9167544853836915, p-value=9.507041741295864e-06\n",
            "Anderson-Darling Test: Statistic=6.084747690480583\n",
            "\n",
            "EXERCICIO 2 - Vendas Diárias:\n",
            "KS Test: D=0.06488117162655116, p-value=0.9480662973498319\n",
            "Shapiro-Wilk Test: W=0.9847059533959719, p-value=0.6547367403620474\n",
            "Anderson-Darling Test: Statistic=0.3060277924314079\n",
            "\n",
            "EXERCICIO 3 - Tempos de Carregamento:\n",
            "KS Test: D=0.24209940125377027, p-value=8.365193582641222e-11\n",
            "Shapiro-Wilk Test: W=0.5888027370572458, p-value=1.3795504856060994e-21\n",
            "Anderson-Darling Test: Statistic=22.899162136077024\n",
            "\n",
            "EXERCICIO 4 - Pesos de Parafusos:\n",
            "KS Test: D=0.07636012207174148, p-value=0.7102468438607685\n",
            "Shapiro-Wilk Test: W=0.988857370586951, p-value=0.7215460371080122\n",
            "Anderson-Darling Test: Statistic=0.31547561089344356\n",
            "\n",
            "EXERCICIO 5 - Notas dos Alunos:\n",
            "KS Test: D=0.1272904427718406, p-value=0.03734290370362325\n",
            "Shapiro-Wilk Test: W=0.9374434538063743, p-value=2.890197027241139e-05\n",
            "Anderson-Darling Test: Statistic=3.0666599526703635\n",
            "\n"
          ]
        }
      ]
    }
  ]
}